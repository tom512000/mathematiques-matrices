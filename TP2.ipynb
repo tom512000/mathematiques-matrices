{
 "cells": [
  {
   "cell_type": "markdown",
   "id": "71235608",
   "metadata": {},
   "source": [
    "# Autour des nombres premiers"
   ]
  },
  {
   "cell_type": "code",
   "execution_count": 1,
   "id": "7715bf06",
   "metadata": {},
   "outputs": [],
   "source": [
    "import time\n",
    "import numpy as np"
   ]
  },
  {
   "cell_type": "markdown",
   "id": "e41905e1",
   "metadata": {},
   "source": [
    "## 1. Tests de primalité"
   ]
  },
  {
   "cell_type": "markdown",
   "id": "4ba94cfe",
   "metadata": {},
   "source": [
    "### 1.1 Exercice : mise en oeuvre de l'algorithme"
   ]
  },
  {
   "cell_type": "code",
   "execution_count": 37,
   "id": "37415053",
   "metadata": {},
   "outputs": [],
   "source": [
    "def primal1(n: int) -> bool:\n",
    "    d = 2\n",
    "    liste = []\n",
    "    bl = False\n",
    "    while (d != n):\n",
    "        if n % d == 0:\n",
    "            liste += [d]\n",
    "        d += 1\n",
    "    if liste == []:\n",
    "        bl = True\n",
    "    return bl"
   ]
  },
  {
   "cell_type": "code",
   "execution_count": 38,
   "id": "5a35d9b6",
   "metadata": {},
   "outputs": [
    {
     "name": "stdout",
     "output_type": "stream",
     "text": [
      "False False True True True\n"
     ]
    }
   ],
   "source": [
    "print(primal1(561),primal1(562),primal1(563),primal1(41579),primal1(2))"
   ]
  },
  {
   "cell_type": "code",
   "execution_count": 39,
   "id": "6863d78e",
   "metadata": {},
   "outputs": [],
   "source": [
    "def temps(f,n):\n",
    "    t0 = time.time()\n",
    "    f(n)\n",
    "    t1 = time.time()\n",
    "    return t1-t0"
   ]
  },
  {
   "cell_type": "code",
   "execution_count": 40,
   "id": "1b76e9a4",
   "metadata": {},
   "outputs": [
    {
     "data": {
      "text/plain": [
       "0.01171731948852539"
      ]
     },
     "execution_count": 40,
     "metadata": {},
     "output_type": "execute_result"
    }
   ],
   "source": [
    "temps(primal1,41579)"
   ]
  },
  {
   "cell_type": "markdown",
   "id": "fd4ce086",
   "metadata": {},
   "source": [
    "### 1.2 Exercice : amélioration de la fonction précédente"
   ]
  },
  {
   "cell_type": "code",
   "execution_count": 53,
   "id": "a8a609bc",
   "metadata": {},
   "outputs": [],
   "source": [
    "def primal2(n: int) -> bool:\n",
    "    if n % 2 == 0:\n",
    "        bl = primal1(n)\n",
    "    else:\n",
    "        d = 3\n",
    "        liste = []\n",
    "        while (d != n):\n",
    "            if n % d == 0:\n",
    "                liste += [d]\n",
    "            d += 2\n",
    "        if liste == []:\n",
    "            bl = True\n",
    "    return bl"
   ]
  },
  {
   "cell_type": "code",
   "execution_count": 54,
   "id": "4cf08983",
   "metadata": {},
   "outputs": [
    {
     "name": "stdout",
     "output_type": "stream",
     "text": [
      "True True\n"
     ]
    }
   ],
   "source": [
    "print(primal2(2),primal2(3))"
   ]
  },
  {
   "cell_type": "code",
   "execution_count": 55,
   "id": "6a8ed7e7",
   "metadata": {},
   "outputs": [
    {
     "data": {
      "text/plain": [
       "0.0050470829010009766"
      ]
     },
     "execution_count": 55,
     "metadata": {},
     "output_type": "execute_result"
    }
   ],
   "source": [
    "temps(primal2,41579)"
   ]
  },
  {
   "cell_type": "code",
   "execution_count": 65,
   "id": "47c46e24",
   "metadata": {},
   "outputs": [],
   "source": [
    "def primal3(n: int) -> bool:\n",
    "    bl = False\n",
    "    if n % 2 == 0:\n",
    "        bl = primal1(n)\n",
    "    else:\n",
    "        d = 3\n",
    "        liste = []\n",
    "        while (d != n):\n",
    "            if n % d == 0 and d <= np.sqrt(n):\n",
    "                liste += [d]\n",
    "            d += 2\n",
    "        if liste == []:\n",
    "            bl = True\n",
    "    return bl"
   ]
  },
  {
   "cell_type": "code",
   "execution_count": 66,
   "id": "12a57c29",
   "metadata": {},
   "outputs": [
    {
     "data": {
      "text/plain": [
       "0.0035109519958496094"
      ]
     },
     "execution_count": 66,
     "metadata": {},
     "output_type": "execute_result"
    }
   ],
   "source": [
    "temps(primal3,41579)"
   ]
  },
  {
   "cell_type": "markdown",
   "id": "54c03590",
   "metadata": {},
   "source": [
    "### 1.3 Exercice : affichage des nombres premiers"
   ]
  },
  {
   "cell_type": "code",
   "execution_count": 94,
   "id": "088fca7a",
   "metadata": {},
   "outputs": [],
   "source": [
    "def premiers(k: int) -> list:\n",
    "    liste = []\n",
    "    for i in range(2, k):\n",
    "        if primal3(i) == True:\n",
    "            liste += [i]\n",
    "    return liste"
   ]
  },
  {
   "cell_type": "code",
   "execution_count": 95,
   "id": "a263cdb4",
   "metadata": {},
   "outputs": [
    {
     "name": "stdout",
     "output_type": "stream",
     "text": [
      "[2, 3, 5, 7, 11, 13, 17, 19, 23, 29, 31, 37, 41, 43, 47, 53, 59, 61, 67, 71, 73, 79, 83, 89, 97, 101, 103, 107, 109, 113, 127, 131, 137, 139, 149, 151, 157, 163, 167, 173, 179, 181, 191, 193, 197, 199] 46\n"
     ]
    }
   ],
   "source": [
    "a = premiers(200)\n",
    "print(a, len(a))"
   ]
  },
  {
   "cell_type": "markdown",
   "id": "2d364caf",
   "metadata": {},
   "source": [
    "## 2. Un test probabiliste"
   ]
  },
  {
   "cell_type": "markdown",
   "id": "4a959bdc",
   "metadata": {},
   "source": [
    "### 2.1 Exercice : test de Fermat"
   ]
  },
  {
   "cell_type": "code",
   "execution_count": 69,
   "id": "95e528c1",
   "metadata": {},
   "outputs": [],
   "source": [
    "def testfermat(n: int) -> bool:\n",
    "    bl = False\n",
    "    if ((2**(n-1)) % n) == 1:\n",
    "        bl = True\n",
    "    return bl"
   ]
  },
  {
   "cell_type": "code",
   "execution_count": 70,
   "id": "5947a6d9",
   "metadata": {},
   "outputs": [
    {
     "name": "stdout",
     "output_type": "stream",
     "text": [
      "True False True\n"
     ]
    }
   ],
   "source": [
    "print(testfermat(561),testfermat(562),testfermat(563))"
   ]
  },
  {
   "cell_type": "markdown",
   "id": "9ab24d51",
   "metadata": {},
   "source": [
    "### 2.2 Exercice : affichage des nombres pseudopremiers"
   ]
  },
  {
   "cell_type": "code",
   "execution_count": 71,
   "id": "47249de8",
   "metadata": {},
   "outputs": [],
   "source": [
    "def pseudopremiers(k: int) -> list:\n",
    "    liste = []\n",
    "    a = 2\n",
    "    while a < k:\n",
    "        a = a + 1\n",
    "        if (primal1(a) != True) and (a % 2 == 1) and (((2**(a-1)) % a) == 1):\n",
    "            liste += [a]\n",
    "    return liste"
   ]
  },
  {
   "cell_type": "code",
   "execution_count": 72,
   "id": "c3c1277e",
   "metadata": {},
   "outputs": [
    {
     "data": {
      "text/plain": [
       "[341, 561, 645, 1105]"
      ]
     },
     "execution_count": 72,
     "metadata": {},
     "output_type": "execute_result"
    }
   ],
   "source": [
    "pseudopremiers(1200)"
   ]
  },
  {
   "cell_type": "markdown",
   "id": "e40b6eb8",
   "metadata": {},
   "source": [
    "## 3. Bonus"
   ]
  },
  {
   "cell_type": "markdown",
   "id": "e1d71433",
   "metadata": {},
   "source": [
    "### 3.1 Exercice : nombres de Mersenne"
   ]
  },
  {
   "cell_type": "code",
   "execution_count": 130,
   "id": "967b8298",
   "metadata": {},
   "outputs": [],
   "source": [
    "premiers=[]\n",
    "\n",
    "def RemplirPremiers(n):\n",
    "    i=0\n",
    "    j=2\n",
    "    while i<n:\n",
    "        if primal3(j):\n",
    "            premiers.append(j)\n",
    "            j=j+1\n",
    "            i=i+1\n",
    "        else:\n",
    "            j=j+1\n",
    "\n",
    "def mersenne(k: int):\n",
    "    RemplirPremiers(100)\n",
    "    M= [(2**premiers[p]-1) for p in range(0,k)]\n",
    "    print(M)"
   ]
  },
  {
   "cell_type": "code",
   "execution_count": 131,
   "id": "0f2083c6",
   "metadata": {},
   "outputs": [
    {
     "name": "stdout",
     "output_type": "stream",
     "text": [
      "[3, 7, 31, 127, 2047, 8191, 131071, 524287]\n"
     ]
    }
   ],
   "source": [
    "mersenne(8)"
   ]
  }
 ],
 "metadata": {
  "kernelspec": {
   "display_name": "Python 3 (ipykernel)",
   "language": "python",
   "name": "python3"
  },
  "language_info": {
   "codemirror_mode": {
    "name": "ipython",
    "version": 3
   },
   "file_extension": ".py",
   "mimetype": "text/x-python",
   "name": "python",
   "nbconvert_exporter": "python",
   "pygments_lexer": "ipython3",
   "version": "3.8.10"
  }
 },
 "nbformat": 4,
 "nbformat_minor": 5
}
