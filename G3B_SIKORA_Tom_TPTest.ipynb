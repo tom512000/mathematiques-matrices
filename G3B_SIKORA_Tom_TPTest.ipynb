{
 "cells": [
  {
   "cell_type": "code",
   "execution_count": 48,
   "id": "b0041e35",
   "metadata": {},
   "outputs": [],
   "source": [
    "import numpy as np"
   ]
  },
  {
   "cell_type": "markdown",
   "id": "91fa8167",
   "metadata": {},
   "source": [
    "# Exercice 1 :"
   ]
  },
  {
   "cell_type": "markdown",
   "id": "9386e1b9",
   "metadata": {},
   "source": [
    "- Créer une fonction diviseur(n) qui retourne les diviseurs positifs d'un entier naturel n."
   ]
  },
  {
   "cell_type": "code",
   "execution_count": 12,
   "id": "7a307096",
   "metadata": {},
   "outputs": [],
   "source": [
    "def diviseur(n: int) -> list:\n",
    "    diviseurs = []\n",
    "    for i in range(1, n+1):\n",
    "        if n % i == 0:\n",
    "            diviseurs += [i]\n",
    "    return diviseurs"
   ]
  },
  {
   "cell_type": "code",
   "execution_count": 13,
   "id": "54643d61",
   "metadata": {},
   "outputs": [
    {
     "data": {
      "text/plain": [
       "[1, 2, 3, 5, 6, 10, 15, 30]"
      ]
     },
     "execution_count": 13,
     "metadata": {},
     "output_type": "execute_result"
    }
   ],
   "source": [
    "diviseur(30)"
   ]
  },
  {
   "cell_type": "markdown",
   "id": "d27cd680",
   "metadata": {},
   "source": [
    "- Deux entiers naturels a et b sont amis ssi : \"(somme des diviseurs positifs de a) ×b\" est égal à \"(somme des diviseurs positifs de b) ×a\".\n",
    "\n",
    "Créer une fonction amis(a,b) retournant True ssi deux entiers sont amis, False sinon."
   ]
  },
  {
   "cell_type": "code",
   "execution_count": 68,
   "id": "2ac974fc",
   "metadata": {},
   "outputs": [],
   "source": [
    "def amis(a: int, b: int) -> bool:\n",
    "\n",
    "    somme_diviseurs_a = 0\n",
    "    for i in range(1, a):\n",
    "        if a % i == 0:\n",
    "            somme_diviseurs_a += i\n",
    "    \n",
    "    somme_diviseurs_b = 0\n",
    "    for i in range(1, b):\n",
    "        if b % i == 0:\n",
    "            somme_diviseurs_b += i\n",
    "\n",
    "    if (somme_diviseurs_a * b) == (somme_diviseurs_b * a):\n",
    "        booleen = True\n",
    "    else:\n",
    "        booleen = False\n",
    "\n",
    "    return booleen"
   ]
  },
  {
   "cell_type": "code",
   "execution_count": 69,
   "id": "d9b299ee",
   "metadata": {},
   "outputs": [
    {
     "name": "stdout",
     "output_type": "stream",
     "text": [
      "True False\n"
     ]
    }
   ],
   "source": [
    "print(amis(30,140),amis(30,141))"
   ]
  },
  {
   "cell_type": "markdown",
   "id": "2bf18065",
   "metadata": {},
   "source": [
    "# Exercice 2 :"
   ]
  },
  {
   "cell_type": "markdown",
   "id": "0b5b18c4",
   "metadata": {},
   "source": [
    "- Créer une fonction `decalage(x) qui associe à une lettre de l'alphabet x la lettre située juste avant dans l'alphabet.\n",
    "\n",
    "Par convention, on fera decalage(A) = Z."
   ]
  },
  {
   "cell_type": "code",
   "execution_count": 66,
   "id": "6c9aec95",
   "metadata": {},
   "outputs": [],
   "source": [
    "def decalage(x: str) -> str:\n",
    "    alphabet = \"ABCDEFGHIJKLMNOPQRSTUVWXYZ\"\n",
    "    \n",
    "    emplacement = alphabet.index(x)-1\n",
    "    \n",
    "    if emplacement == -1:\n",
    "        emplacement = 25\n",
    "    \n",
    "    return alphabet[emplacement]"
   ]
  },
  {
   "cell_type": "code",
   "execution_count": 67,
   "id": "f7329f82",
   "metadata": {
    "scrolled": true
   },
   "outputs": [
    {
     "name": "stdout",
     "output_type": "stream",
     "text": [
      "C Y Z\n"
     ]
    }
   ],
   "source": [
    "print(decalage(\"D\"), decalage(\"Z\"), decalage(\"A\"))"
   ]
  },
  {
   "cell_type": "markdown",
   "id": "78187db4",
   "metadata": {},
   "source": [
    "- Créer une fonction insertA(mot) qui associe à un mot une chaîne de caractère construite de la façon suivante : première lettre du mot, puis \"A\", puis deuxième lettre du mot, puis \"A\", etc."
   ]
  },
  {
   "cell_type": "code",
   "execution_count": 45,
   "id": "c721b905",
   "metadata": {},
   "outputs": [],
   "source": [
    "def insertA(mot: str) -> str:\n",
    "    resultat = \"\"\n",
    "    for i in range(len(mot)):\n",
    "        resultat += mot[i] + \"A\"\n",
    "    return resultat"
   ]
  },
  {
   "cell_type": "code",
   "execution_count": 46,
   "id": "2a071749",
   "metadata": {},
   "outputs": [
    {
     "data": {
      "text/plain": [
       "'PAOAIARAEA'"
      ]
     },
     "execution_count": 46,
     "metadata": {},
     "output_type": "execute_result"
    }
   ],
   "source": [
    "insertA(\"POIRE\")"
   ]
  },
  {
   "cell_type": "markdown",
   "id": "a076440a",
   "metadata": {},
   "source": [
    "# Exercice 3 :"
   ]
  },
  {
   "cell_type": "markdown",
   "id": "62af2940",
   "metadata": {},
   "source": [
    "- Construire une fonction diagcal(A,booléen) qui, pour une matrice carrée A, retourne la somme des coefficients situés sur la diagonale descendante si booléen = True, et la multiplication de ces coefficients si booléen = False."
   ]
  },
  {
   "cell_type": "code",
   "execution_count": 49,
   "id": "ed5d2bc4",
   "metadata": {},
   "outputs": [
    {
     "name": "stdout",
     "output_type": "stream",
     "text": [
      "[[ 2  4  3 12]\n",
      " [ 1  9 15 -3]\n",
      " [23  6  7  2]\n",
      " [ 2  4  5  3]]\n"
     ]
    }
   ],
   "source": [
    "A = np.array([[2,4,3,12],[1,9,15,-3],[23,6,7,2],[2,4,5,3]])\n",
    "print(A)"
   ]
  },
  {
   "cell_type": "code",
   "execution_count": 60,
   "id": "5cb2b05f",
   "metadata": {},
   "outputs": [],
   "source": [
    "def diagcal(A: list, booleen: bool) -> tuple:\n",
    "    \n",
    "    if booleen == True:\n",
    "        nb = -1\n",
    "        calcul = 0\n",
    "        for i in range(len(A)):\n",
    "            nb += 1\n",
    "            calcul += A[i][nb]\n",
    "    \n",
    "    elif booleen == False:\n",
    "        nb = -1\n",
    "        calcul = 1\n",
    "        for i in range(len(A)):\n",
    "            nb += 1\n",
    "            calcul *= A[i][nb]\n",
    "    \n",
    "    return calcul"
   ]
  },
  {
   "cell_type": "code",
   "execution_count": 61,
   "id": "ec950206",
   "metadata": {},
   "outputs": [
    {
     "name": "stdout",
     "output_type": "stream",
     "text": [
      "21 378\n"
     ]
    }
   ],
   "source": [
    "print(diagcal(A,True), diagcal(A,False))"
   ]
  },
  {
   "cell_type": "markdown",
   "id": "361c7fc5",
   "metadata": {},
   "source": [
    "# Exercice 4 :"
   ]
  },
  {
   "cell_type": "markdown",
   "id": "1004f920",
   "metadata": {},
   "source": [
    "- Un nombre semipremier est le produit de deux nombres premiers (non nécessairement distincts). Créer une fonction semiPrem(k) qui affiche les nombres semipremiers inférieurs à k."
   ]
  },
  {
   "cell_type": "code",
   "execution_count": 125,
   "id": "ded2b285",
   "metadata": {},
   "outputs": [],
   "source": [
    "def semiPrem(k):\n",
    "    \n",
    "    # Trouver les nombres premiers\n",
    "    primes = [2]\n",
    "    for i in range(3, k):\n",
    "        booleen = True\n",
    "        for j in range(2, i):\n",
    "            if i % j == 0:\n",
    "                booleen = False\n",
    "        if booleen == True:\n",
    "            primes += [i]\n",
    "    \n",
    "    # Trouver les nombres semipremiers parmi les nombres premiers\n",
    "    liste = []\n",
    "    for i in range(len(primes)):\n",
    "        for j in range(i, len(primes)):\n",
    "            if primes[i] * primes[j] < k:\n",
    "                liste += [primes[i] * primes[j]]\n",
    "    \n",
    "    return sorted(liste)"
   ]
  },
  {
   "cell_type": "code",
   "execution_count": 126,
   "id": "2c40462b",
   "metadata": {},
   "outputs": [
    {
     "data": {
      "text/plain": [
       "[4, 6, 9, 10, 14, 15, 21, 22, 25, 26, 33, 34, 35, 38, 39, 46, 49]"
      ]
     },
     "execution_count": 126,
     "metadata": {},
     "output_type": "execute_result"
    }
   ],
   "source": [
    "semiPrem(50)"
   ]
  }
 ],
 "metadata": {
  "kernelspec": {
   "display_name": "Python 3 (ipykernel)",
   "language": "python",
   "name": "python3"
  },
  "language_info": {
   "codemirror_mode": {
    "name": "ipython",
    "version": 3
   },
   "file_extension": ".py",
   "mimetype": "text/x-python",
   "name": "python",
   "nbconvert_exporter": "python",
   "pygments_lexer": "ipython3",
   "version": "3.8.10"
  }
 },
 "nbformat": 4,
 "nbformat_minor": 5
}
