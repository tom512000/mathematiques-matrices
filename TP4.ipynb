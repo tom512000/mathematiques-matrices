{
 "cells": [
  {
   "cell_type": "markdown",
   "id": "de998036",
   "metadata": {},
   "source": [
    "# Matrices"
   ]
  },
  {
   "cell_type": "code",
   "execution_count": 1,
   "id": "30946d33",
   "metadata": {},
   "outputs": [],
   "source": [
    "import numpy as np"
   ]
  },
  {
   "cell_type": "markdown",
   "id": "62fffff0",
   "metadata": {},
   "source": [
    "## 1. Ecriture matricielle"
   ]
  },
  {
   "cell_type": "markdown",
   "id": "66310f27",
   "metadata": {},
   "source": [
    "### 1.1 Création de matrices"
   ]
  },
  {
   "cell_type": "code",
   "execution_count": 2,
   "id": "2843481e",
   "metadata": {},
   "outputs": [
    {
     "data": {
      "text/plain": [
       "array([[ 2,  3,  4],\n",
       "       [-1,  4,  5],\n",
       "       [-5,  6,  7],\n",
       "       [ 1,  0,  2]])"
      ]
     },
     "execution_count": 2,
     "metadata": {},
     "output_type": "execute_result"
    }
   ],
   "source": [
    "M = np.array([[2,3,4],[-1,4,5],[-5,6,7],[1,0,2]])\n",
    "M"
   ]
  },
  {
   "cell_type": "code",
   "execution_count": 3,
   "id": "ec548272",
   "metadata": {},
   "outputs": [
    {
     "data": {
      "text/plain": [
       "12"
      ]
     },
     "execution_count": 3,
     "metadata": {},
     "output_type": "execute_result"
    }
   ],
   "source": [
    "#nombre de coefficients de M\n",
    "np.size(M)"
   ]
  },
  {
   "cell_type": "code",
   "execution_count": 4,
   "id": "427ad775",
   "metadata": {},
   "outputs": [
    {
     "data": {
      "text/plain": [
       "4"
      ]
     },
     "execution_count": 4,
     "metadata": {},
     "output_type": "execute_result"
    }
   ],
   "source": [
    "#nombre de lignes de M\n",
    "np.shape(M)[0]"
   ]
  },
  {
   "cell_type": "code",
   "execution_count": 5,
   "id": "53ba7a49",
   "metadata": {},
   "outputs": [
    {
     "data": {
      "text/plain": [
       "3"
      ]
     },
     "execution_count": 5,
     "metadata": {},
     "output_type": "execute_result"
    }
   ],
   "source": [
    "#nombre de colonnes de M\n",
    "np.shape(M)[1]"
   ]
  },
  {
   "cell_type": "markdown",
   "id": "a710a490",
   "metadata": {},
   "source": [
    "### 1.2 Extraction de coefficients"
   ]
  },
  {
   "cell_type": "code",
   "execution_count": 6,
   "id": "3b2dc2b3",
   "metadata": {},
   "outputs": [
    {
     "data": {
      "text/plain": [
       "3"
      ]
     },
     "execution_count": 6,
     "metadata": {},
     "output_type": "execute_result"
    }
   ],
   "source": [
    "M[0,1]"
   ]
  },
  {
   "cell_type": "code",
   "execution_count": 7,
   "id": "c6e69576",
   "metadata": {},
   "outputs": [
    {
     "data": {
      "text/plain": [
       "2"
      ]
     },
     "execution_count": 7,
     "metadata": {},
     "output_type": "execute_result"
    }
   ],
   "source": [
    "M[3,2]"
   ]
  },
  {
   "cell_type": "code",
   "execution_count": 8,
   "id": "1a723440",
   "metadata": {},
   "outputs": [
    {
     "data": {
      "text/plain": [
       "array([3, 4])"
      ]
     },
     "execution_count": 8,
     "metadata": {},
     "output_type": "execute_result"
    }
   ],
   "source": [
    "M[0,1:3]"
   ]
  },
  {
   "cell_type": "code",
   "execution_count": 9,
   "id": "c9d30fce",
   "metadata": {},
   "outputs": [
    {
     "data": {
      "text/plain": [
       "array([2, 3, 4])"
      ]
     },
     "execution_count": 9,
     "metadata": {},
     "output_type": "execute_result"
    }
   ],
   "source": [
    "M[0,0:3]"
   ]
  },
  {
   "cell_type": "code",
   "execution_count": 10,
   "id": "492f0189",
   "metadata": {},
   "outputs": [
    {
     "data": {
      "text/plain": [
       "array([2, 3, 4])"
      ]
     },
     "execution_count": 10,
     "metadata": {},
     "output_type": "execute_result"
    }
   ],
   "source": [
    "M[0,:]"
   ]
  },
  {
   "cell_type": "code",
   "execution_count": 11,
   "id": "c394c0a1",
   "metadata": {},
   "outputs": [
    {
     "data": {
      "text/plain": [
       "array([-1,  4,  5])"
      ]
     },
     "execution_count": 11,
     "metadata": {},
     "output_type": "execute_result"
    }
   ],
   "source": [
    "M[1,:]"
   ]
  },
  {
   "cell_type": "code",
   "execution_count": 12,
   "id": "6bc24cb1",
   "metadata": {},
   "outputs": [
    {
     "data": {
      "text/plain": [
       "array([[ 0,  0,  0],\n",
       "       [ 4,  8, 12],\n",
       "       [ 2,  4,  6],\n",
       "       [ 1,  0,  2]])"
      ]
     },
     "execution_count": 12,
     "metadata": {},
     "output_type": "execute_result"
    }
   ],
   "source": [
    "# affectation à une ligne\n",
    "M[2,:] = [2,4,6]\n",
    "M[1,:] = 2 * M[2,:]\n",
    "M[0,:] = 0\n",
    "M"
   ]
  },
  {
   "cell_type": "code",
   "execution_count": 13,
   "id": "5f13f6b1",
   "metadata": {},
   "outputs": [
    {
     "data": {
      "text/plain": [
       "array([[ 2,  3,  4],\n",
       "       [-1,  4,  5],\n",
       "       [-5,  6,  7],\n",
       "       [ 1,  0,  2]])"
      ]
     },
     "execution_count": 13,
     "metadata": {},
     "output_type": "execute_result"
    }
   ],
   "source": [
    "M = np.array([[2,3,4],[-1,4,5],[-5,6,7],[1,0,2]])\n",
    "N = np.copy(M)\n",
    "N[0,0] = 88\n",
    "M"
   ]
  },
  {
   "cell_type": "code",
   "execution_count": 14,
   "id": "b9af2829",
   "metadata": {},
   "outputs": [
    {
     "data": {
      "text/plain": [
       "array([[88,  3,  4],\n",
       "       [-1,  4,  5],\n",
       "       [-5,  6,  7],\n",
       "       [ 1,  0,  2]])"
      ]
     },
     "execution_count": 14,
     "metadata": {},
     "output_type": "execute_result"
    }
   ],
   "source": [
    "N"
   ]
  },
  {
   "cell_type": "markdown",
   "id": "c99a0ef2",
   "metadata": {},
   "source": [
    "### 1.3 Fonctions np.zeros(), np.eye(), np.ones()"
   ]
  },
  {
   "cell_type": "code",
   "execution_count": 15,
   "id": "98a3ac0c",
   "metadata": {},
   "outputs": [
    {
     "name": "stdout",
     "output_type": "stream",
     "text": [
      "[[0. 0. 0. 0. 0.]\n",
      " [0. 0. 0. 0. 0.]\n",
      " [0. 0. 0. 0. 0.]]\n",
      "\n",
      "\n",
      "[[1. 0. 0.]\n",
      " [0. 1. 0.]\n",
      " [0. 0. 1.]]\n",
      "\n",
      "\n",
      "[[1. 1. 1. 1. 1.]\n",
      " [1. 1. 1. 1. 1.]\n",
      " [1. 1. 1. 1. 1.]]\n"
     ]
    }
   ],
   "source": [
    "# que font les fonctions suivantes ?\n",
    "print(np.zeros((3,5))) # matrice de 0 de largeur 3 et longueur 5\n",
    "print(\"\\n\")\n",
    "print(np.eye(3)) # matrice carré de 0 de longueur 3 avec diagonal de 1\n",
    "print(\"\\n\")\n",
    "print(np.ones((3,5))) # matrice de 1 de largeur 3 et longueur 5"
   ]
  },
  {
   "cell_type": "markdown",
   "id": "727c6a09",
   "metadata": {},
   "source": [
    "## 2. Multiplication matricielle"
   ]
  },
  {
   "cell_type": "code",
   "execution_count": 16,
   "id": "e964f67e",
   "metadata": {},
   "outputs": [
    {
     "data": {
      "text/plain": [
       "array([[ -9,  36,  54],\n",
       "       [-25,  43,  63],\n",
       "       [-39,  35,  55],\n",
       "       [ 21,  -9,   8]])"
      ]
     },
     "execution_count": 16,
     "metadata": {},
     "output_type": "execute_result"
    }
   ],
   "source": [
    "M = np.array([[2,3,4],[-1,4,5],[-5,6,7],[1,0,2]])\n",
    "P = np.array([[2,3,3,5],[-1,4,5,6],[-5,2,7,8],[1,0,-2,9]])\n",
    "np.dot(P,M)"
   ]
  },
  {
   "cell_type": "markdown",
   "id": "9ece1a54",
   "metadata": {},
   "source": [
    "np.dot(P,M) permet de multiplier deux matrices avec le meme nombre de colonne pour P et avec le meme nombre de ligne pour M."
   ]
  },
  {
   "cell_type": "markdown",
   "id": "86a9527e",
   "metadata": {},
   "source": [
    "### 2.1 Exercice : matrice Identité"
   ]
  },
  {
   "cell_type": "code",
   "execution_count": 17,
   "id": "094852d9",
   "metadata": {},
   "outputs": [
    {
     "name": "stdout",
     "output_type": "stream",
     "text": [
      "[[ 2.  3.  3.  5.]\n",
      " [-1.  4.  5.  6.]\n",
      " [-5.  2.  7.  8.]\n",
      " [ 1.  0. -2.  9.]]\n",
      "\n",
      "\n",
      "[[ 2.  3.  3.  5.]\n",
      " [-1.  4.  5.  6.]\n",
      " [-5.  2.  7.  8.]\n",
      " [ 1.  0. -2.  9.]]\n"
     ]
    }
   ],
   "source": [
    "P = np.array([[2,3,3,5],[-1,4,5,6],[-5,2,7,8],[1,0,-2,9]])\n",
    "I = np.eye(4)\n",
    "print(np.dot(P,I))\n",
    "print(\"\\n\")\n",
    "print(np.dot(I,P))"
   ]
  },
  {
   "cell_type": "markdown",
   "id": "ed8c30e2",
   "metadata": {},
   "source": [
    "Ici, les deux matrices sont carrés donc le nombre de colonne de P et le nombre de ligne de I sont identiques."
   ]
  },
  {
   "cell_type": "markdown",
   "id": "a5b43cab",
   "metadata": {},
   "source": [
    "### 2.2 Exercice : puissance de matrices"
   ]
  },
  {
   "cell_type": "code",
   "execution_count": 18,
   "id": "ac44e94b",
   "metadata": {},
   "outputs": [],
   "source": [
    "def puissance(A: list, p: int) -> list:\n",
    "    B = np.copy(A)\n",
    "    for i in range(p-1):\n",
    "        B = np.dot(A, B)\n",
    "    return B"
   ]
  },
  {
   "cell_type": "code",
   "execution_count": 19,
   "id": "63b96281",
   "metadata": {},
   "outputs": [
    {
     "data": {
      "text/plain": [
       "array([[1, 2, 3],\n",
       "       [4, 5, 6],\n",
       "       [7, 8, 9]])"
      ]
     },
     "execution_count": 19,
     "metadata": {},
     "output_type": "execute_result"
    }
   ],
   "source": [
    "A = np.array([[1,2,3],[4,5,6],[7,8,9]])\n",
    "A"
   ]
  },
  {
   "cell_type": "code",
   "execution_count": 20,
   "id": "7e458d16",
   "metadata": {},
   "outputs": [
    {
     "data": {
      "text/plain": [
       "array([[121824, 149688, 177552],\n",
       "       [275886, 338985, 402084],\n",
       "       [429948, 528282, 626616]])"
      ]
     },
     "execution_count": 20,
     "metadata": {},
     "output_type": "execute_result"
    }
   ],
   "source": [
    "puissance(A,5)"
   ]
  },
  {
   "cell_type": "markdown",
   "id": "e51e7ae9",
   "metadata": {},
   "source": [
    "## 3. Exercices d'applications"
   ]
  },
  {
   "cell_type": "code",
   "execution_count": 21,
   "id": "28b4ce93",
   "metadata": {},
   "outputs": [],
   "source": [
    "def diagInv(n: int) -> list:\n",
    "    A = np.zeros((n,n))\n",
    "    indice = len(A)-1\n",
    "    for i in range(len(A)):\n",
    "        A[i, indice] = 1\n",
    "        indice -= 1\n",
    "    return A"
   ]
  },
  {
   "cell_type": "code",
   "execution_count": 22,
   "id": "b952af0e",
   "metadata": {},
   "outputs": [
    {
     "data": {
      "text/plain": [
       "array([[0., 0., 0., 1.],\n",
       "       [0., 0., 1., 0.],\n",
       "       [0., 1., 0., 0.],\n",
       "       [1., 0., 0., 0.]])"
      ]
     },
     "execution_count": 22,
     "metadata": {},
     "output_type": "execute_result"
    }
   ],
   "source": [
    "diagInv(4)"
   ]
  },
  {
   "cell_type": "code",
   "execution_count": 23,
   "id": "28d8a3ed",
   "metadata": {},
   "outputs": [],
   "source": [
    "def negatifzero(M: list) -> list:\n",
    "    N = np.copy(M)\n",
    "    for i in range(len(N)):\n",
    "        for j in range(len(N[i])):\n",
    "            if N[i, j] < 0:\n",
    "                N[i, j] = 0\n",
    "    return N"
   ]
  },
  {
   "cell_type": "code",
   "execution_count": 24,
   "id": "958980db",
   "metadata": {},
   "outputs": [
    {
     "data": {
      "text/plain": [
       "array([[ 2,  3,  3,  5],\n",
       "       [-1,  4,  5,  6],\n",
       "       [-5,  2,  7,  8],\n",
       "       [ 1,  0, -2,  9]])"
      ]
     },
     "execution_count": 24,
     "metadata": {},
     "output_type": "execute_result"
    }
   ],
   "source": [
    "P"
   ]
  },
  {
   "cell_type": "code",
   "execution_count": 25,
   "id": "9cec7cc0",
   "metadata": {},
   "outputs": [
    {
     "data": {
      "text/plain": [
       "array([[2, 3, 3, 5],\n",
       "       [0, 4, 5, 6],\n",
       "       [0, 2, 7, 8],\n",
       "       [1, 0, 0, 9]])"
      ]
     },
     "execution_count": 25,
     "metadata": {},
     "output_type": "execute_result"
    }
   ],
   "source": [
    "negatifzero(P)"
   ]
  },
  {
   "cell_type": "code",
   "execution_count": 2,
   "id": "d0dc0a26",
   "metadata": {},
   "outputs": [],
   "source": [
    "def matriceliste(v: list, n: int) -> list:\n",
    "    w = np.zeros((n,len(v)))\n",
    "    for i in range(len(v)):\n",
    "        w[0, i] = v[i]\n",
    "    for j in range(1, len(w)):\n",
    "        for k in range(len(w[j])):\n",
    "            w[j, k] = w[j-1, k] * w[0, k]\n",
    "    return w"
   ]
  },
  {
   "cell_type": "code",
   "execution_count": 3,
   "id": "35420dbd",
   "metadata": {},
   "outputs": [
    {
     "name": "stdout",
     "output_type": "stream",
     "text": [
      "[[  2.   3.   4.]\n",
      " [  4.   9.  16.]\n",
      " [  8.  27.  64.]\n",
      " [ 16.  81. 256.]]\n",
      "[[   2.    3.    4.]\n",
      " [   4.    9.   16.]\n",
      " [   8.   27.   64.]\n",
      " [  16.   81.  256.]\n",
      " [  32.  243. 1024.]]\n"
     ]
    }
   ],
   "source": [
    "print(matriceliste([2,3,4], 4))\n",
    "print(matriceliste([2,3,4], 5))"
   ]
  },
  {
   "cell_type": "code",
   "execution_count": 28,
   "id": "baacd690",
   "metadata": {},
   "outputs": [],
   "source": [
    "def plusligneprecedente(M: list) -> list:\n",
    "    N = np.copy(M)\n",
    "    copyN = np.copy(N[-1])\n",
    "    for i in range(len(N)-1, 0, -1):\n",
    "        N[i] += N[i-1]\n",
    "    N[0] += copyN\n",
    "    return N"
   ]
  },
  {
   "cell_type": "code",
   "execution_count": 29,
   "id": "2189dad1",
   "metadata": {},
   "outputs": [
    {
     "data": {
      "text/plain": [
       "array([[ 2,  3,  4],\n",
       "       [-1,  4,  5],\n",
       "       [-5,  6,  7],\n",
       "       [ 1,  0,  2]])"
      ]
     },
     "execution_count": 29,
     "metadata": {},
     "output_type": "execute_result"
    }
   ],
   "source": [
    "M"
   ]
  },
  {
   "cell_type": "code",
   "execution_count": 30,
   "id": "721ccf4c",
   "metadata": {},
   "outputs": [
    {
     "data": {
      "text/plain": [
       "array([[ 3,  3,  6],\n",
       "       [ 1,  7,  9],\n",
       "       [-6, 10, 12],\n",
       "       [-4,  6,  9]])"
      ]
     },
     "execution_count": 30,
     "metadata": {},
     "output_type": "execute_result"
    }
   ],
   "source": [
    "plusligneprecedente(M)"
   ]
  },
  {
   "cell_type": "markdown",
   "id": "ef479d39",
   "metadata": {},
   "source": [
    "## 4. Bonus"
   ]
  },
  {
   "cell_type": "code",
   "execution_count": 6,
   "id": "03350dac",
   "metadata": {},
   "outputs": [],
   "source": [
    "def produit(A: list, B: list) -> list:\n",
    "    if np.shape(A)[1] == np.shape(B)[0]:\n",
    "        res = np.dot(A, B)\n",
    "    else:\n",
    "        res = A*B\n",
    "    return res"
   ]
  },
  {
   "cell_type": "code",
   "execution_count": 7,
   "id": "46868dad",
   "metadata": {},
   "outputs": [
    {
     "name": "stdout",
     "output_type": "stream",
     "text": [
      "[[ 7 16 27]\n",
      " [ 4 10 18]]\n",
      "\n",
      "\n",
      "[[ 9  9]\n",
      " [54 38]\n",
      " [12  8]]\n"
     ]
    }
   ],
   "source": [
    "W = np.array([[1,2,3],[4,5,6]])\n",
    "X = np.array([[7,8,9],[1,2,3]])\n",
    "Y = np.array([[0,1,3,0],[8,5,0,6],[0,0,1,1]])\n",
    "Z = np.array([[0,1],[0,0],[3,3],[9,5]])\n",
    "\n",
    "print(produit(W, X))\n",
    "print(\"\\n\")\n",
    "print(produit(Y, Z))"
   ]
  },
  {
   "cell_type": "markdown",
   "id": "aebf7f58",
   "metadata": {},
   "source": [
    "[Lien test Y et Z](https://encrypted-tbn0.gstatic.com/images?q=tbn:ANd9GcT0jboqZ51ccbQ0D4-Ln92vGOxulFd2nVoGAUmRIVk3h4uxOUV0CPwawWMZnQAjUq4zYSI&usqp=CAU)"
   ]
  },
  {
   "cell_type": "markdown",
   "id": "a173d32c",
   "metadata": {},
   "source": [
    "[Lien test W et X](https://calculis.net/images/exemple-produit-de-matrices.png)"
   ]
  }
 ],
 "metadata": {
  "kernelspec": {
   "display_name": "Python 3 (ipykernel)",
   "language": "python",
   "name": "python3"
  },
  "language_info": {
   "codemirror_mode": {
    "name": "ipython",
    "version": 3
   },
   "file_extension": ".py",
   "mimetype": "text/x-python",
   "name": "python",
   "nbconvert_exporter": "python",
   "pygments_lexer": "ipython3",
   "version": "3.8.10"
  }
 },
 "nbformat": 4,
 "nbformat_minor": 5
}
