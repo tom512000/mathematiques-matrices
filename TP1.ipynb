{
 "cells": [
  {
   "cell_type": "markdown",
   "id": "23cbc159",
   "metadata": {},
   "source": [
    "# Mise en route en Python"
   ]
  },
  {
   "cell_type": "markdown",
   "id": "4ac05b1c",
   "metadata": {},
   "source": [
    "## 1. Syntaxe"
   ]
  },
  {
   "cell_type": "markdown",
   "id": "caf9b44d",
   "metadata": {},
   "source": [
    "### 1.1 Manipulation des listes"
   ]
  },
  {
   "cell_type": "markdown",
   "id": "010345ee",
   "metadata": {},
   "source": [
    "#### 1.1.1 liste"
   ]
  },
  {
   "cell_type": "code",
   "execution_count": 1,
   "id": "c24222aa",
   "metadata": {},
   "outputs": [
    {
     "name": "stdout",
     "output_type": "stream",
     "text": [
      "[4, 3, 2, 1] [2, 4, 6, 8]\n"
     ]
    }
   ],
   "source": [
    "x = [4,3,2,1]\n",
    "y = [2,4,6,8]\n",
    "print(x,y)"
   ]
  },
  {
   "cell_type": "markdown",
   "id": "0fbb5ba7",
   "metadata": {},
   "source": [
    "#### 1.1.2 concaténation"
   ]
  },
  {
   "cell_type": "code",
   "execution_count": 2,
   "id": "dec9dc22",
   "metadata": {},
   "outputs": [
    {
     "name": "stdout",
     "output_type": "stream",
     "text": [
      "[4, 3, 2, 1, 7, 8]\n",
      "[12, 4, 3, 2, 1, 9, 2, 4, 6, 8]\n",
      "[3, 3, 3, 3]\n",
      "[]\n"
     ]
    }
   ],
   "source": [
    "z = x + [7,8]\n",
    "print(z)\n",
    "print([12] + x + [9] + y)\n",
    "print([3]*4)\n",
    "#création d'une liste vide\n",
    "v = []\n",
    "print(v)"
   ]
  },
  {
   "cell_type": "markdown",
   "id": "81d98cad",
   "metadata": {},
   "source": [
    "#### 1.1.3 extraction de coefficient"
   ]
  },
  {
   "cell_type": "markdown",
   "id": "811eb974",
   "metadata": {},
   "source": [
    "Les commandes suivantes permettent d'afficher un à plusieurs éléments d'une liste grâce à leur indice."
   ]
  },
  {
   "cell_type": "code",
   "execution_count": 3,
   "id": "5863c479",
   "metadata": {},
   "outputs": [
    {
     "name": "stdout",
     "output_type": "stream",
     "text": [
      "2\n",
      "6\n",
      "[2, 4, 6]\n",
      "[4, 6]\n",
      "[6]\n",
      "[4, 6, 8]\n",
      "[6, 8]\n"
     ]
    }
   ],
   "source": [
    "print(y[0])\n",
    "print(y[2])\n",
    "print(y[0:3])\n",
    "print(y[1:3])\n",
    "print(y[2:3])\n",
    "print(y[1:])\n",
    "print(y[2:])"
   ]
  },
  {
   "cell_type": "code",
   "execution_count": 4,
   "id": "0a3b82e1",
   "metadata": {},
   "outputs": [],
   "source": [
    "w=x"
   ]
  },
  {
   "cell_type": "code",
   "execution_count": 5,
   "id": "e2071643",
   "metadata": {},
   "outputs": [
    {
     "name": "stdout",
     "output_type": "stream",
     "text": [
      "[4, 3, 2, 1]\n",
      "[4, 3, 88, 1]\n"
     ]
    }
   ],
   "source": [
    "x = [4,3,2,1]\n",
    "w[:]=x # w est une copie de x\n",
    "w[2]=88\n",
    "print(x)\n",
    "print(w)"
   ]
  },
  {
   "cell_type": "markdown",
   "id": "7198037f",
   "metadata": {},
   "source": [
    "#### 1.1.4 séquence"
   ]
  },
  {
   "cell_type": "code",
   "execution_count": 6,
   "id": "21360f7b",
   "metadata": {},
   "outputs": [
    {
     "data": {
      "text/plain": [
       "[1, 3, 5, 7]"
      ]
     },
     "execution_count": 6,
     "metadata": {},
     "output_type": "execute_result"
    }
   ],
   "source": [
    "#les commandes suivantes renvoient la même liste\n",
    "[0,1,2,3]\n",
    "list(range(0,4))\n",
    "list(range(4))\n",
    "\n",
    "\n",
    "#si on souhaite créer une séquence avec un pas différent de 1 :\n",
    "list(range(12,2,-1))\n",
    "list(range(1,9,2))"
   ]
  },
  {
   "cell_type": "markdown",
   "id": "5c6246b6",
   "metadata": {},
   "source": [
    "### 1.2 Fonctions"
   ]
  },
  {
   "cell_type": "markdown",
   "id": "a8404b21",
   "metadata": {},
   "source": [
    "1. La fonction 1 affiche le nombre d'éléments dans la liste y.\n",
    "2. La fonction 2 affiche la somme des éléments de la liste y.\n",
    "3. La fonction 3 supprime l'élément d'indice 2 de la liste y."
   ]
  },
  {
   "cell_type": "code",
   "execution_count": 7,
   "id": "1cc5b2d0",
   "metadata": {},
   "outputs": [
    {
     "name": "stdout",
     "output_type": "stream",
     "text": [
      "[2, 4, 6, 8]\n",
      "4\n",
      "20\n"
     ]
    }
   ],
   "source": [
    "y = [2,4,6,8]\n",
    "print(y)\n",
    "print(len(y)) # fonction 1\n",
    "print(sum(y)) # fonction 2\n",
    "del(y[2])     # fonction 3"
   ]
  },
  {
   "cell_type": "markdown",
   "id": "fa4c0b40",
   "metadata": {},
   "source": [
    "#### 1.2.1 créations de fonctions"
   ]
  },
  {
   "cell_type": "code",
   "execution_count": null,
   "id": "83410304",
   "metadata": {},
   "outputs": [],
   "source": [
    "def nomdemafonction(x1,x2,...xp):\n",
    "    instructions\n",
    "    return y"
   ]
  },
  {
   "cell_type": "code",
   "execution_count": 9,
   "id": "48321aea",
   "metadata": {},
   "outputs": [],
   "source": [
    "def pm(a,b):\n",
    "    plus = a+b\n",
    "    moins = a-b\n",
    "    res = (plus,moins)\n",
    "    return res"
   ]
  },
  {
   "cell_type": "code",
   "execution_count": 10,
   "id": "3eed1f98",
   "metadata": {},
   "outputs": [
    {
     "data": {
      "text/plain": [
       "(19, 5)"
      ]
     },
     "execution_count": 10,
     "metadata": {},
     "output_type": "execute_result"
    }
   ],
   "source": [
    "pm(12,7)"
   ]
  },
  {
   "cell_type": "markdown",
   "id": "0bb315e1",
   "metadata": {},
   "source": [
    "### 1.3 Structures de contrôle"
   ]
  },
  {
   "cell_type": "markdown",
   "id": "3f043df7",
   "metadata": {},
   "source": [
    "#### 1.3.1 le test \"si\"\""
   ]
  },
  {
   "cell_type": "code",
   "execution_count": null,
   "id": "75249434",
   "metadata": {},
   "outputs": [],
   "source": [
    "if conditions:\n",
    "    instructions1\n",
    "else:\n",
    "    instructions2"
   ]
  },
  {
   "cell_type": "markdown",
   "id": "b65dbb5c",
   "metadata": {},
   "source": [
    "#### 1.3.2 la boucle \"pour\""
   ]
  },
  {
   "cell_type": "code",
   "execution_count": null,
   "id": "8abb7402",
   "metadata": {},
   "outputs": [],
   "source": [
    "for i in liste:\n",
    "    instructions"
   ]
  },
  {
   "cell_type": "code",
   "execution_count": null,
   "id": "c0696c73",
   "metadata": {},
   "outputs": [],
   "source": [
    "for i in range(début,fin):\n",
    "    instructions"
   ]
  },
  {
   "cell_type": "markdown",
   "id": "00c35478",
   "metadata": {},
   "source": [
    "#### 1.3.3 la boucle \"tant que\""
   ]
  },
  {
   "cell_type": "code",
   "execution_count": null,
   "id": "504d0c3c",
   "metadata": {},
   "outputs": [],
   "source": [
    "while conditions:\n",
    "    instructions"
   ]
  },
  {
   "cell_type": "markdown",
   "id": "f2404334",
   "metadata": {},
   "source": [
    "## 2. Applications"
   ]
  },
  {
   "cell_type": "markdown",
   "id": "f6120e65",
   "metadata": {},
   "source": [
    "### 2.1 Exercice : modification de listes"
   ]
  },
  {
   "cell_type": "code",
   "execution_count": 11,
   "id": "f373b9a8",
   "metadata": {},
   "outputs": [],
   "source": [
    "def nulpos(liste: list) -> list:\n",
    "    liste2 = liste[:]\n",
    "    for i in range(len(liste2)):\n",
    "        if liste2[i] > 0:\n",
    "            liste2[i] = 0\n",
    "    return liste2"
   ]
  },
  {
   "cell_type": "code",
   "execution_count": 12,
   "id": "b0951171",
   "metadata": {},
   "outputs": [
    {
     "data": {
      "text/plain": [
       "[0, 0, -2, 0, 0]"
      ]
     },
     "execution_count": 12,
     "metadata": {},
     "output_type": "execute_result"
    }
   ],
   "source": [
    "a = [8,5,-2,1,2]\n",
    "nulpos(a)"
   ]
  },
  {
   "cell_type": "code",
   "execution_count": 13,
   "id": "ca237d93",
   "metadata": {},
   "outputs": [],
   "source": [
    "def puiss(liste: list) -> list:\n",
    "    liste2 = liste[:]\n",
    "    for i in range(len(liste2)):\n",
    "        liste2[i] = liste2[i]**(i+1)\n",
    "    return liste2"
   ]
  },
  {
   "cell_type": "code",
   "execution_count": 15,
   "id": "7b391ccf",
   "metadata": {},
   "outputs": [
    {
     "data": {
      "text/plain": [
       "[8, 25, -8, 1, 32]"
      ]
     },
     "execution_count": 15,
     "metadata": {},
     "output_type": "execute_result"
    }
   ],
   "source": [
    "puiss(a)"
   ]
  },
  {
   "cell_type": "code",
   "execution_count": 16,
   "id": "33aca78c",
   "metadata": {},
   "outputs": [],
   "source": [
    "def nbre_pairs(liste: list) -> int:\n",
    "    liste2 = liste[:]\n",
    "    nbpairs = 0\n",
    "    for i in range(len(liste2)):\n",
    "        if liste2[i] % 2 == 0:\n",
    "            nbpairs += 1\n",
    "    return nbpairs"
   ]
  },
  {
   "cell_type": "code",
   "execution_count": 17,
   "id": "d924fe46",
   "metadata": {},
   "outputs": [
    {
     "data": {
      "text/plain": [
       "3"
      ]
     },
     "execution_count": 17,
     "metadata": {},
     "output_type": "execute_result"
    }
   ],
   "source": [
    "nbre_pairs(a)"
   ]
  },
  {
   "cell_type": "code",
   "execution_count": 18,
   "id": "99d690ed",
   "metadata": {},
   "outputs": [],
   "source": [
    "def minval(liste: list) -> tuple:\n",
    "    liste2 = liste[:]\n",
    "    tup = (liste2[0], 0)\n",
    "    for i in range(1, len(liste2)):\n",
    "        if liste2[i] < tup[0]:\n",
    "            tup = (liste2[i], i)\n",
    "    return tup"
   ]
  },
  {
   "cell_type": "markdown",
   "id": "20a16999",
   "metadata": {},
   "source": [
    "minval(a)"
   ]
  },
  {
   "cell_type": "markdown",
   "id": "5088937f",
   "metadata": {},
   "source": [
    "### 2.2 Exercice : algorithme d'Euclide"
   ]
  },
  {
   "cell_type": "code",
   "execution_count": 1,
   "id": "053ab4bb",
   "metadata": {},
   "outputs": [],
   "source": [
    "def algoeucli(a: int, b: int) -> int:\n",
    "    nb1 = a\n",
    "    nb2 = b\n",
    "    while nb2:\n",
    "        nb1, nb2 = nb2, nb1%nb2\n",
    "    return nb1"
   ]
  },
  {
   "cell_type": "code",
   "execution_count": 2,
   "id": "0c7c7942",
   "metadata": {},
   "outputs": [
    {
     "data": {
      "text/plain": [
       "3"
      ]
     },
     "execution_count": 2,
     "metadata": {},
     "output_type": "execute_result"
    }
   ],
   "source": [
    "algoeucli(237,18)"
   ]
  },
  {
   "cell_type": "markdown",
   "id": "dbf36496",
   "metadata": {},
   "source": [
    "## 3. Base 2"
   ]
  },
  {
   "cell_type": "markdown",
   "id": "e1564eb9",
   "metadata": {},
   "source": [
    "### 3.1 Exercice : écriture en base 2"
   ]
  },
  {
   "cell_type": "code",
   "execution_count": 9,
   "id": "e89e0cec",
   "metadata": {},
   "outputs": [],
   "source": [
    "def base2(n: int) -> list:\n",
    "    q = -1\n",
    "    res = []\n",
    "    while q != 0:\n",
    "        q = n // 2\n",
    "        r = n % 2\n",
    "        res = [r] + res\n",
    "        n = q\n",
    "    return res"
   ]
  },
  {
   "cell_type": "code",
   "execution_count": 10,
   "id": "752edd92",
   "metadata": {},
   "outputs": [
    {
     "data": {
      "text/plain": [
       "[1, 1, 0, 0, 1, 1, 1]"
      ]
     },
     "execution_count": 10,
     "metadata": {},
     "output_type": "execute_result"
    }
   ],
   "source": [
    "base2(103)"
   ]
  },
  {
   "cell_type": "markdown",
   "id": "469d4dc2",
   "metadata": {},
   "source": [
    "### 3.2 Bonus : écriture en base 8"
   ]
  },
  {
   "cell_type": "code",
   "execution_count": 17,
   "id": "b5f5dad8",
   "metadata": {},
   "outputs": [],
   "source": [
    "def base8(n: int) -> list:\n",
    "    q = -1\n",
    "    res = []\n",
    "    while q != 0:\n",
    "        q = n // 8\n",
    "        r = n % 8\n",
    "        res = [r] + res\n",
    "        n = q\n",
    "    return res"
   ]
  },
  {
   "cell_type": "code",
   "execution_count": 18,
   "id": "50f5f4d6",
   "metadata": {},
   "outputs": [
    {
     "data": {
      "text/plain": [
       "[1, 4, 7]"
      ]
     },
     "execution_count": 18,
     "metadata": {},
     "output_type": "execute_result"
    }
   ],
   "source": [
    "base8(103)"
   ]
  }
 ],
 "metadata": {
  "kernelspec": {
   "display_name": "Python 3 (ipykernel)",
   "language": "python",
   "name": "python3"
  },
  "language_info": {
   "codemirror_mode": {
    "name": "ipython",
    "version": 3
   },
   "file_extension": ".py",
   "mimetype": "text/x-python",
   "name": "python",
   "nbconvert_exporter": "python",
   "pygments_lexer": "ipython3",
   "version": "3.8.10"
  }
 },
 "nbformat": 4,
 "nbformat_minor": 5
}
