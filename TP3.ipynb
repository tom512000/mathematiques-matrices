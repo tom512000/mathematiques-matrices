{
 "cells": [
  {
   "cell_type": "markdown",
   "id": "e3429e1f",
   "metadata": {},
   "source": [
    "# Cryptographie : chiffrement affine"
   ]
  },
  {
   "cell_type": "markdown",
   "id": "36035a83",
   "metadata": {},
   "source": [
    "## 1. Correspondance numérique / alphabétique"
   ]
  },
  {
   "cell_type": "markdown",
   "id": "5c4c7a4d",
   "metadata": {},
   "source": [
    "|A|B|C|D|E|F|G|H|I|J|K|L|M|N|O|P|Q|R|S|T|U|V|W|X|Y|Z|\n",
    "|:-:|:-:|:-:|:-:|:-:|:-:|:-:|:-:|:-:|:-:|:-:|:-:|:-:|:-:|:-:|:-:|:-:|:-:|:-:|:-:|:-:|:-:|:-:|:-:|:-:|:-:|\n",
    "|0|1|2|3|4|5|6|7|8|9|10|11|12|13|14|15|16|17|18|19|20|21|22|23|24|25|"
   ]
  },
  {
   "cell_type": "code",
   "execution_count": 2,
   "id": "8671b0f9",
   "metadata": {},
   "outputs": [],
   "source": [
    "alphabet = \"ABCDEFGHIJKLMNOPQRSTUVWXYZ\""
   ]
  },
  {
   "cell_type": "markdown",
   "id": "24f3e68b",
   "metadata": {},
   "source": [
    "### 1.1 Exercice : passage à l'alphabétique"
   ]
  },
  {
   "cell_type": "code",
   "execution_count": 5,
   "id": "194ddf91",
   "metadata": {},
   "outputs": [],
   "source": [
    "def alpha(m: list) -> str:\n",
    "    decript = \"\"\n",
    "    for i in range(len(m)):\n",
    "        for j in range(len(alphabet)):\n",
    "            if m[i] == j:\n",
    "                decript += f\"{alphabet[j]}\"\n",
    "    return decript"
   ]
  },
  {
   "cell_type": "code",
   "execution_count": 6,
   "id": "5a12cc4e",
   "metadata": {},
   "outputs": [
    {
     "data": {
      "text/plain": [
       "'SALUT'"
      ]
     },
     "execution_count": 6,
     "metadata": {},
     "output_type": "execute_result"
    }
   ],
   "source": [
    "alpha([18,0,11,20,19])"
   ]
  },
  {
   "cell_type": "markdown",
   "id": "c9dc19b8",
   "metadata": {},
   "source": [
    "### 1.2 Exercice : passage au numérique"
   ]
  },
  {
   "cell_type": "code",
   "execution_count": 7,
   "id": "f46ac676",
   "metadata": {},
   "outputs": [],
   "source": [
    "def num(m: int) -> list:\n",
    "    decript = []\n",
    "    for i in range(len(m)):\n",
    "        for j in range(len(alphabet)):\n",
    "            if m[i] == alphabet[j]:\n",
    "                decript += [j]\n",
    "    return decript"
   ]
  },
  {
   "cell_type": "code",
   "execution_count": 8,
   "id": "a6eebe30",
   "metadata": {},
   "outputs": [
    {
     "data": {
      "text/plain": [
       "[18, 0, 11, 20, 19]"
      ]
     },
     "execution_count": 8,
     "metadata": {},
     "output_type": "execute_result"
    }
   ],
   "source": [
    "num(\"SALUT\")"
   ]
  },
  {
   "cell_type": "markdown",
   "id": "656dbe28",
   "metadata": {},
   "source": [
    "## 2. Chiffrement affine"
   ]
  },
  {
   "cell_type": "markdown",
   "id": "37e0a542",
   "metadata": {},
   "source": [
    "- Fonction de chiffrement : **ek(m) = a x m + b**\n",
    "- Fonction de déchiffrement : **dk(c) = (a)-1 x (c - b)**"
   ]
  },
  {
   "cell_type": "markdown",
   "id": "60cf6f1b",
   "metadata": {},
   "source": [
    "### 2.1 Exercice : chiffrement"
   ]
  },
  {
   "cell_type": "code",
   "execution_count": 21,
   "id": "befc19d7",
   "metadata": {},
   "outputs": [],
   "source": [
    "def chiffre(m: str, a: int, b: int) -> str:\n",
    "    liste = num(m)\n",
    "    for i in range(len(liste)):\n",
    "        liste[i] = (a * liste[i]) + b\n",
    "        while liste[i] >= 26:\n",
    "            liste[i] -= 26\n",
    "    return alpha(liste)"
   ]
  },
  {
   "cell_type": "code",
   "execution_count": 22,
   "id": "f571e382",
   "metadata": {},
   "outputs": [
    {
     "data": {
      "text/plain": [
       "'AKH'"
      ]
     },
     "execution_count": 22,
     "metadata": {},
     "output_type": "execute_result"
    }
   ],
   "source": [
    "chiffre(\"IUT\", 3, 2)"
   ]
  },
  {
   "cell_type": "markdown",
   "id": "73d0a943",
   "metadata": {},
   "source": [
    "### 2.2 Exercice : inverse"
   ]
  },
  {
   "cell_type": "code",
   "execution_count": 76,
   "id": "3073e2ec",
   "metadata": {},
   "outputs": [],
   "source": [
    "def inverse(x: int, n: int):\n",
    "    a = -1\n",
    "    while a != n:\n",
    "        a += 1\n",
    "        if (x * a) % n == 1:\n",
    "            b = a\n",
    "            break\n",
    "        elif a == n - 1:\n",
    "            b = \"pas inversible\"\n",
    "    return b"
   ]
  },
  {
   "cell_type": "code",
   "execution_count": 77,
   "id": "d5888321",
   "metadata": {},
   "outputs": [
    {
     "data": {
      "text/plain": [
       "9"
      ]
     },
     "execution_count": 77,
     "metadata": {},
     "output_type": "execute_result"
    }
   ],
   "source": [
    "inverse(3,26)"
   ]
  },
  {
   "cell_type": "code",
   "execution_count": 78,
   "id": "c86ed982",
   "metadata": {},
   "outputs": [
    {
     "data": {
      "text/plain": [
       "'pas inversible'"
      ]
     },
     "execution_count": 78,
     "metadata": {},
     "output_type": "execute_result"
    }
   ],
   "source": [
    "inverse(4,26)"
   ]
  },
  {
   "cell_type": "markdown",
   "id": "fb3750e1",
   "metadata": {},
   "source": [
    "### 2.3 Exercice : déchiffremment"
   ]
  },
  {
   "cell_type": "code",
   "execution_count": 90,
   "id": "615b2318",
   "metadata": {},
   "outputs": [],
   "source": [
    "def dechiffre(c: str, a: int, b: int) -> str:\n",
    "    liste = num(c)\n",
    "    for i in range(len(liste)):\n",
    "        liste[i] = inverse(a,26) * (liste[i] - b)\n",
    "        while liste[i] >= 26:\n",
    "            liste[i] -= 26\n",
    "        while liste[i] < 0:\n",
    "            liste[i] += 26\n",
    "    return alpha(liste)"
   ]
  },
  {
   "cell_type": "code",
   "execution_count": 91,
   "id": "46f9bfbc",
   "metadata": {},
   "outputs": [
    {
     "data": {
      "text/plain": [
       "'IUT'"
      ]
     },
     "execution_count": 91,
     "metadata": {},
     "output_type": "execute_result"
    }
   ],
   "source": [
    "dechiffre(\"AKH\",3,2)"
   ]
  },
  {
   "cell_type": "code",
   "execution_count": 92,
   "id": "f786334a",
   "metadata": {},
   "outputs": [
    {
     "data": {
      "text/plain": [
       "'SQANFXQJYQVYXYWNFLYCWNFGCEXQAZZQWYEEQLBYTGQXGNFYUALLYL'"
      ]
     },
     "execution_count": 92,
     "metadata": {},
     "output_type": "execute_result"
    }
   ],
   "source": [
    "c=\"EYCPRTYDWYNWTWQPRJWIQPRUIOTYCZZYQWOOYJFWHUYTUPRWKCJJWJ\"\n",
    "dechiffre(c,3,2)"
   ]
  },
  {
   "cell_type": "markdown",
   "id": "f60b42bd",
   "metadata": {},
   "source": [
    "## 3. Bonus : analyse fréquentielle"
   ]
  },
  {
   "cell_type": "markdown",
   "id": "6db3e731",
   "metadata": {},
   "source": [
    "|A|B|C|D|E|F|G|H|I|J|K|L|M|N|O|P|Q|R|S|T|U|V|W|X|Y|Z|\n",
    "|:-:|:-:|:-:|:-:|:-:|:-:|:-:|:-:|:-:|:-:|:-:|:-:|:-:|:-:|:-:|:-:|:-:|:-:|:-:|:-:|:-:|:-:|:-:|:-:|:-:|:-:|\n",
    "|9.42|1.02|2.64|3.39|15.87|0.95|1.04|0.77|8.41|0.89|0.0|5.34|3.24|7.15|5.14|2.86|1.06|6.46|7.90|7.26|6.24|2.15|0.0|0.3|0.24|0.32|"
   ]
  },
  {
   "cell_type": "markdown",
   "id": "92bbff77",
   "metadata": {},
   "source": [
    "### 3.1 calcul de la fréquence d'apparition"
   ]
  },
  {
   "cell_type": "code",
   "execution_count": 147,
   "id": "138d33d2",
   "metadata": {},
   "outputs": [],
   "source": [
    "def frequence(c: str) -> list:\n",
    "    liste = 26*[0]\n",
    "    for i in range(len(c)):\n",
    "        for j in range(len(alphabet)):\n",
    "            if c[i] == alphabet[j]:\n",
    "                liste[j] += 1\n",
    "    for k in range(len(liste)):\n",
    "        liste[k] = round(liste[k]/len(c)*100,2)\n",
    "    return liste"
   ]
  },
  {
   "cell_type": "code",
   "execution_count": 148,
   "id": "b921da06",
   "metadata": {},
   "outputs": [
    {
     "name": "stdout",
     "output_type": "stream",
     "text": [
      "[5.88, 4.55, 0.0, 0.38, 8.73, 1.52, 1.14, 7.02, 0.57, 2.09, 0.0, 7.78, 2.09, 0.38, 1.9, 0.57, 9.68, 5.31, 7.4, 3.42, 0.0, 5.5, 4.74, 0.0, 19.17, 0.19]\n"
     ]
    }
   ],
   "source": [
    "message=\"OYQVARYYBWGAYTYIAYLLYOSFSHYEJWLTTYFESQQYEAPQBEVSEAPWBYLERVEBELVSLTARYJEQYOEONYYHYQLYJYHHYQWRVYMBWLVYHYALBLYMSYLYFSOVWSLYQALHYMEHYDSGAYYMBSLYIEHEOVSGAYEAOWALQTYHEJEVESHHYTYQYQBSWRQLYJYHHYQWRVLYAQQSETYLWJYLHYQBHERQQYOLYVQTYHELMYEJQWHAYTYHYMBSLYHYVWSHYTYHEMWLVARYQVEVSWRQBEVSEHYJHSRTYYTWVYYTARYGASBYMYRVEQQYZBASQQERVBWALERRSNSHYLARYBHERYVYVWAVYRVSYLYBWALQASFSYBELTYQQJSLYQQSRSQVLYQTYHYMBSLYHEBLSROYQQYHYSEDSHYFYLQQEJEQYTERQQWRFESQQYEAOWQMSGAYBWLVYAQYTYQBHERQFWHYQEHYRRYMSGASBWALLWRVQEAFYLQWRBYABHYYVLYQVEALYLHEHSJYLVYTERQHEIEHEPSY\"\n",
    "print(frequence(message))"
   ]
  },
  {
   "cell_type": "markdown",
   "id": "cf131199",
   "metadata": {},
   "source": [
    "### 3.2 déchiffrement du message codé"
   ]
  },
  {
   "cell_type": "markdown",
   "id": "f7316197",
   "metadata": {},
   "source": [
    "- E a été chiffré en 8.73\n",
    "- A a été chiffré en 5.88\n",
    "- Il y a donc + de E que de A, la clé change en fonction de la fréquence de la lettre"
   ]
  }
 ],
 "metadata": {
  "kernelspec": {
   "display_name": "Python 3 (ipykernel)",
   "language": "python",
   "name": "python3"
  },
  "language_info": {
   "codemirror_mode": {
    "name": "ipython",
    "version": 3
   },
   "file_extension": ".py",
   "mimetype": "text/x-python",
   "name": "python",
   "nbconvert_exporter": "python",
   "pygments_lexer": "ipython3",
   "version": "3.8.10"
  }
 },
 "nbformat": 4,
 "nbformat_minor": 5
}
