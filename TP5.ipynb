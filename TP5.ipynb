{
 "cells": [
  {
   "cell_type": "markdown",
   "id": "5f868b1b",
   "metadata": {},
   "source": [
    "# Algorithme du pivot de Gauss"
   ]
  },
  {
   "cell_type": "code",
   "execution_count": 109,
   "id": "bd57fa85",
   "metadata": {},
   "outputs": [],
   "source": [
    "import numpy as np"
   ]
  },
  {
   "cell_type": "markdown",
   "id": "dc14a6ec",
   "metadata": {},
   "source": [
    "## Préambule : permutation de lignes"
   ]
  },
  {
   "cell_type": "code",
   "execution_count": 110,
   "id": "fe58f5f4",
   "metadata": {},
   "outputs": [],
   "source": [
    "def permute(M: list, L1: int, L2: int) -> list:\n",
    "    M3 = np.copy(M)\n",
    "    M3[L1] = M[L2]\n",
    "    M3[L2] = M[L1]\n",
    "    return M3"
   ]
  },
  {
   "cell_type": "code",
   "execution_count": 111,
   "id": "ca5d685e",
   "metadata": {},
   "outputs": [
    {
     "data": {
      "text/plain": [
       "array([[ 1,  1,  2, -1],\n",
       "       [ 1,  0, -1,  2],\n",
       "       [ 2,  1,  3,  2],\n",
       "       [-1, -2,  0,  4]])"
      ]
     },
     "execution_count": 111,
     "metadata": {},
     "output_type": "execute_result"
    }
   ],
   "source": [
    "M = np.array([[1,1,2,-1],[1,0,-1,2],[2,1,3,2],[-1,-2,0,4]])\n",
    "M"
   ]
  },
  {
   "cell_type": "code",
   "execution_count": 112,
   "id": "8613648a",
   "metadata": {},
   "outputs": [
    {
     "data": {
      "text/plain": [
       "array([[ 1,  1,  2, -1],\n",
       "       [ 1,  0, -1,  2],\n",
       "       [-1, -2,  0,  4],\n",
       "       [ 2,  1,  3,  2]])"
      ]
     },
     "execution_count": 112,
     "metadata": {},
     "output_type": "execute_result"
    }
   ],
   "source": [
    "permute(M,2,3)"
   ]
  },
  {
   "cell_type": "markdown",
   "id": "eae886b7",
   "metadata": {},
   "source": [
    "## 1. Matrice échelonnée triangulaire"
   ]
  },
  {
   "cell_type": "markdown",
   "id": "ee4853d6",
   "metadata": {},
   "source": [
    "### 1.1 Exercice : recherche du pivot"
   ]
  },
  {
   "cell_type": "code",
   "execution_count": 214,
   "id": "95cf8ae6",
   "metadata": {},
   "outputs": [],
   "source": [
    "def recherchepivot(M: list, j: int) -> list:\n",
    "    M1 = np.copy(M)\n",
    "    a = M1\n",
    "    if M1[j, j] == 0:\n",
    "        a = permute(M1, j, j+1)\n",
    "    return a"
   ]
  },
  {
   "cell_type": "code",
   "execution_count": 215,
   "id": "d5f6438a",
   "metadata": {},
   "outputs": [
    {
     "data": {
      "text/plain": [
       "array([[ 1,  1,  2, -1],\n",
       "       [ 1,  0, -1,  2],\n",
       "       [ 2,  1,  3,  2],\n",
       "       [-1, -2,  0,  4]])"
      ]
     },
     "execution_count": 215,
     "metadata": {},
     "output_type": "execute_result"
    }
   ],
   "source": [
    "M"
   ]
  },
  {
   "cell_type": "code",
   "execution_count": 216,
   "id": "4b3358dd",
   "metadata": {},
   "outputs": [
    {
     "data": {
      "text/plain": [
       "array([[ 1,  1,  2, -1],\n",
       "       [ 2,  1,  3,  2],\n",
       "       [ 1,  0, -1,  2],\n",
       "       [-1, -2,  0,  4]])"
      ]
     },
     "execution_count": 216,
     "metadata": {},
     "output_type": "execute_result"
    }
   ],
   "source": [
    "recherchepivot(M,1)"
   ]
  },
  {
   "cell_type": "code",
   "execution_count": 217,
   "id": "d3f98600",
   "metadata": {},
   "outputs": [
    {
     "data": {
      "text/plain": [
       "array([[ 1,  1,  2, -1],\n",
       "       [ 1,  0, -1,  2],\n",
       "       [ 2,  1,  3,  2],\n",
       "       [-1, -2,  0,  4]])"
      ]
     },
     "execution_count": 217,
     "metadata": {},
     "output_type": "execute_result"
    }
   ],
   "source": [
    "recherchepivot(M,0)"
   ]
  },
  {
   "cell_type": "markdown",
   "id": "f8786dab",
   "metadata": {},
   "source": [
    "### 1.2 Exercice : annulation des coefficients"
   ]
  },
  {
   "cell_type": "code",
   "execution_count": 194,
   "id": "c88cc143",
   "metadata": {},
   "outputs": [],
   "source": [
    "def annulcoeff(M: list, j: int) -> list:\n",
    "    M1 = recherchepivot(M, j)\n",
    "    for i in range(j+1, np.shape(M1)[0]):\n",
    "        M1[:][i]=M1[:][i]*M1[j][j]-M1[i][j]*M1[:][j]\n",
    "    return M1"
   ]
  },
  {
   "cell_type": "code",
   "execution_count": 195,
   "id": "3b6573cc",
   "metadata": {},
   "outputs": [
    {
     "data": {
      "text/plain": [
       "array([[ 1,  1,  2, -1],\n",
       "       [ 2,  1,  3,  2],\n",
       "       [ 1,  0, -1,  2],\n",
       "       [ 3,  0,  6,  8]])"
      ]
     },
     "execution_count": 195,
     "metadata": {},
     "output_type": "execute_result"
    }
   ],
   "source": [
    "M = np.array([[1,1,2,-1],[1,0,-1,2],[2,1,3,2],[-1,-2,0,4]])\n",
    "M\n",
    "annulcoeff(M,1)"
   ]
  },
  {
   "cell_type": "markdown",
   "id": "ad81b32f",
   "metadata": {},
   "source": [
    "### 1.3 Exercice : pivot de Gauss"
   ]
  },
  {
   "cell_type": "code",
   "execution_count": 218,
   "id": "08102653",
   "metadata": {},
   "outputs": [],
   "source": [
    "def gauss(M: list) -> list:\n",
    "    M1 = np.copy(M)\n",
    "    for i in range(np.shape(M1)[0]):\n",
    "        M1 = annulcoeff(M1, i)\n",
    "    return M1"
   ]
  },
  {
   "cell_type": "code",
   "execution_count": 219,
   "id": "8261880e",
   "metadata": {},
   "outputs": [
    {
     "data": {
      "text/plain": [
       "array([[ 1,  1,  2, -1],\n",
       "       [ 1,  0, -1,  2],\n",
       "       [ 2,  1,  3,  2],\n",
       "       [-1, -2,  0,  4]])"
      ]
     },
     "execution_count": 219,
     "metadata": {},
     "output_type": "execute_result"
    }
   ],
   "source": [
    "M = np.array([[1,1,2,-1],[1,0,-1,2],[2,1,3,2],[-1,-2,0,4]])\n",
    "M"
   ]
  },
  {
   "cell_type": "code",
   "execution_count": 221,
   "id": "877a8201",
   "metadata": {},
   "outputs": [
    {
     "data": {
      "text/plain": [
       "array([[ 1,  1,  2, -1],\n",
       "       [ 0, -1, -3,  3],\n",
       "       [ 0,  0, -2, -1],\n",
       "       [ 0,  0,  0, -5]])"
      ]
     },
     "execution_count": 221,
     "metadata": {},
     "output_type": "execute_result"
    }
   ],
   "source": [
    "M2 = gauss(M)\n",
    "M2"
   ]
  },
  {
   "cell_type": "markdown",
   "id": "9fc6029c",
   "metadata": {},
   "source": [
    "## 2. Matrice échelonnée diagonale"
   ]
  },
  {
   "cell_type": "markdown",
   "id": "269f2468",
   "metadata": {},
   "source": [
    "### 2.1 Exercice : remontée de l'algorithme de Gauss"
   ]
  },
  {
   "cell_type": "code",
   "execution_count": 222,
   "id": "679aaa21",
   "metadata": {},
   "outputs": [],
   "source": [
    "def remonte(G: list) -> list:\n",
    "    G1 = np.copy(G)\n",
    "    for i in range(np.shape(G1)[0]-2, -1, -1):\n",
    "        for j in range(np.shape(G1)[0]-1, i, -1):\n",
    "            G1[i][:]=G1[:][i]*G1[j][j]-G1[i][j]*G1[:][j]\n",
    "    return G1"
   ]
  },
  {
   "cell_type": "code",
   "execution_count": 224,
   "id": "ab0f5dc4",
   "metadata": {},
   "outputs": [
    {
     "data": {
      "text/plain": [
       "array([[-2500,     0,     0,     0],\n",
       "       [    0,    50,     0,     0],\n",
       "       [    0,     0,    10,     0],\n",
       "       [    0,     0,     0,    -5]])"
      ]
     },
     "execution_count": 224,
     "metadata": {},
     "output_type": "execute_result"
    }
   ],
   "source": [
    "remonte(M2)"
   ]
  },
  {
   "cell_type": "code",
   "execution_count": 225,
   "id": "a1bc4e13",
   "metadata": {},
   "outputs": [],
   "source": [
    "def diagonale(M: list) -> list:\n",
    "    M1 = gauss(M)\n",
    "    M1 = remonte(M1)\n",
    "    return M1"
   ]
  },
  {
   "cell_type": "code",
   "execution_count": 226,
   "id": "f9fcc69b",
   "metadata": {},
   "outputs": [
    {
     "data": {
      "text/plain": [
       "array([[ 1,  1,  2, -1],\n",
       "       [ 1,  0, -1,  2],\n",
       "       [ 2,  1,  3,  2],\n",
       "       [-1, -2,  0,  4]])"
      ]
     },
     "execution_count": 226,
     "metadata": {},
     "output_type": "execute_result"
    }
   ],
   "source": [
    "M = np.array([[1,1,2,-1],[1,0,-1,2],[2,1,3,2],[-1,-2,0,4]])\n",
    "M"
   ]
  },
  {
   "cell_type": "code",
   "execution_count": 227,
   "id": "e8ff896d",
   "metadata": {},
   "outputs": [
    {
     "data": {
      "text/plain": [
       "array([[-2500,     0,     0,     0],\n",
       "       [    0,    50,     0,     0],\n",
       "       [    0,     0,    10,     0],\n",
       "       [    0,     0,     0,    -5]])"
      ]
     },
     "execution_count": 227,
     "metadata": {},
     "output_type": "execute_result"
    }
   ],
   "source": [
    "diagonale(M)"
   ]
  },
  {
   "cell_type": "markdown",
   "id": "19141d62",
   "metadata": {},
   "source": [
    "### 2.2 Bonus : inversion d'une matrice"
   ]
  },
  {
   "cell_type": "code",
   "execution_count": 228,
   "id": "66227a7b",
   "metadata": {},
   "outputs": [],
   "source": [
    "def inverse(M: list) -> list:\n",
    "    M1 = np.linalg.inv(M)\n",
    "    M1 = np.round(M1, 1)\n",
    "    return M1"
   ]
  },
  {
   "cell_type": "code",
   "execution_count": 229,
   "id": "fe453907",
   "metadata": {},
   "outputs": [
    {
     "data": {
      "text/plain": [
       "array([[ 1,  1,  2, -1],\n",
       "       [ 1,  0, -1,  2],\n",
       "       [ 2,  1,  3,  2],\n",
       "       [-1, -2,  0,  4]])"
      ]
     },
     "execution_count": 229,
     "metadata": {},
     "output_type": "execute_result"
    }
   ],
   "source": [
    "M = np.array([[1,1,2,-1],[1,0,-1,2],[2,1,3,2],[-1,-2,0,4]])\n",
    "M"
   ]
  },
  {
   "cell_type": "code",
   "execution_count": 230,
   "id": "3797f2fd",
   "metadata": {},
   "outputs": [
    {
     "data": {
      "text/plain": [
       "array([[ 4. ,  2. , -2. ,  1. ],\n",
       "       [-5.6, -2.2,  3. , -1.8],\n",
       "       [ 0.4, -0.2,  0. ,  0.2],\n",
       "       [-1.8, -0.6,  1. , -0.4]])"
      ]
     },
     "execution_count": 230,
     "metadata": {},
     "output_type": "execute_result"
    }
   ],
   "source": [
    "inverse(M)"
   ]
  }
 ],
 "metadata": {
  "kernelspec": {
   "display_name": "Python 3 (ipykernel)",
   "language": "python",
   "name": "python3"
  },
  "language_info": {
   "codemirror_mode": {
    "name": "ipython",
    "version": 3
   },
   "file_extension": ".py",
   "mimetype": "text/x-python",
   "name": "python",
   "nbconvert_exporter": "python",
   "pygments_lexer": "ipython3",
   "version": "3.8.10"
  }
 },
 "nbformat": 4,
 "nbformat_minor": 5
}
